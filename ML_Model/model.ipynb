{
 "cells": [
  {
   "cell_type": "markdown",
   "id": "217737ed",
   "metadata": {},
   "source": [
    "### Importing Dataset"
   ]
  },
  {
   "cell_type": "code",
   "execution_count": 8,
   "id": "afb2e2d0",
   "metadata": {},
   "outputs": [
    {
     "name": "stdout",
     "output_type": "stream",
     "text": [
      "(257896, 28)\n",
      "   flight  time  wind_speed  wind_angle  battery_voltage  battery_current  \\\n",
      "0       1   0.0         0.1        12.0        24.222174         0.087470   \n",
      "1       1   0.2         0.1         3.0        24.227180         0.095421   \n",
      "2       1   0.3         0.1       352.0        24.225929         0.095421   \n",
      "3       1   0.5         0.1       354.0        24.224678         0.095421   \n",
      "4       1   0.6         0.1       359.0        24.210905         0.079518   \n",
      "\n",
      "   position_x  position_y  position_z  orientation_x  ...  angular_z  \\\n",
      "0  -79.782396   40.458047  269.332402       0.001772  ...   0.006815   \n",
      "1  -79.782396   40.458047  269.332056       0.001768  ...   0.002034   \n",
      "2  -79.782396   40.458047  269.333081       0.001768  ...  -0.000874   \n",
      "3  -79.782396   40.458047  269.334648       0.001775  ...   0.002443   \n",
      "4  -79.782396   40.458047  269.336178       0.001775  ...  -0.006425   \n",
      "\n",
      "   linear_acceleration_x  linear_acceleration_y  linear_acceleration_z  speed  \\\n",
      "0               0.004258              -0.120405              -9.811137    4.0   \n",
      "1               0.006175              -0.116397              -9.810392    4.0   \n",
      "2               0.002696              -0.128592              -9.809440    4.0   \n",
      "3               0.002024              -0.128271              -9.810159    4.0   \n",
      "4               0.008271              -0.119890              -9.812125    4.0   \n",
      "\n",
      "   payload  altitude        date  time_day  route  \n",
      "0      0.0        25  2019-04-07     10:13     R5  \n",
      "1      0.0        25  2019-04-07     10:13     R5  \n",
      "2      0.0        25  2019-04-07     10:13     R5  \n",
      "3      0.0        25  2019-04-07     10:13     R5  \n",
      "4      0.0        25  2019-04-07     10:13     R5  \n",
      "\n",
      "[5 rows x 28 columns]\n"
     ]
    },
    {
     "name": "stderr",
     "output_type": "stream",
     "text": [
      "/var/folders/ym/p6gqd77937bbw378sk66yjpm0000gn/T/ipykernel_35021/688319430.py:4: DtypeWarning: Columns (24) have mixed types. Specify dtype option on import or set low_memory=False.\n",
      "  data = pd.read_csv('flights.csv')\n"
     ]
    }
   ],
   "source": [
    "import numpy as np\n",
    "import pandas as pd\n",
    "\n",
    "data = pd.read_csv('flights.csv')\n",
    "\n",
    "print(data.shape)\n",
    "\n",
    "print(data.head())"
   ]
  },
  {
   "cell_type": "code",
   "execution_count": 9,
   "id": "7b3ac7bc",
   "metadata": {},
   "outputs": [
    {
     "name": "stdout",
     "output_type": "stream",
     "text": [
      "Index(['flight', 'time', 'wind_speed', 'wind_angle', 'battery_voltage',\n",
      "       'battery_current', 'position_x', 'position_y', 'position_z',\n",
      "       'orientation_x', 'orientation_y', 'orientation_z', 'orientation_w',\n",
      "       'velocity_x', 'velocity_y', 'velocity_z', 'angular_x', 'angular_y',\n",
      "       'angular_z', 'linear_acceleration_x', 'linear_acceleration_y',\n",
      "       'linear_acceleration_z', 'speed', 'payload', 'altitude', 'date',\n",
      "       'time_day', 'route'],\n",
      "      dtype='object')\n",
      "(257896, 28)\n"
     ]
    }
   ],
   "source": [
    "print(data.columns)\n",
    "print(data.shape)"
   ]
  },
  {
   "cell_type": "code",
   "execution_count": 10,
   "id": "e911ffa9",
   "metadata": {},
   "outputs": [
    {
     "name": "stdout",
     "output_type": "stream",
     "text": [
      "[False False False False False False False False False False False False\n",
      " False False False False False False False False False False False False\n",
      " False False False False]\n"
     ]
    }
   ],
   "source": [
    "print(data.columns.isna())"
   ]
  },
  {
   "cell_type": "markdown",
   "id": "9370d35f",
   "metadata": {},
   "source": [
    "### Pre Processing"
   ]
  },
  {
   "cell_type": "code",
   "execution_count": 11,
   "id": "a539b4b5",
   "metadata": {},
   "outputs": [
    {
     "name": "stdout",
     "output_type": "stream",
     "text": [
      "Index(['time', 'wind_speed', 'position_x', 'position_y', 'position_z',\n",
      "       'velocity_x', 'velocity_y', 'velocity_z', 'angular_x', 'angular_y',\n",
      "       'angular_z', 'speed', 'payload'],\n",
      "      dtype='object')\n"
     ]
    }
   ],
   "source": [
    "data.drop(columns=['flight','battery_voltage','battery_current','wind_angle',\n",
    "        'orientation_x', 'orientation_y', 'orientation_z', 'orientation_w', 'altitude',\n",
    "        'linear_acceleration_x', 'linear_acceleration_y',\n",
    "        'linear_acceleration_z','date','time_day','route'],inplace=True)\n",
    "print(data.columns)"
   ]
  },
  {
   "cell_type": "code",
   "execution_count": 12,
   "id": "d53d33d2",
   "metadata": {},
   "outputs": [
    {
     "name": "stdout",
     "output_type": "stream",
     "text": [
      "Index(['time', 'wind_speed', 'position_x', 'position_y', 'position_z',\n",
      "       'angular_x', 'angular_y', 'angular_z', 'speed', 'payload'],\n",
      "      dtype='object')\n",
      "(257896, 10)\n"
     ]
    }
   ],
   "source": [
    "# data['velocity'] = np.sqrt(\n",
    "#     data['velocity_x']**2 + data['velocity_y']**2 + data['velocity_z']**2\n",
    "# )\n",
    "\n",
    "data.drop(columns=['velocity_x', 'velocity_y', 'velocity_z'], inplace=True)\n",
    "\n",
    "print(data.columns)\n",
    "print(data.shape)"
   ]
  },
  {
   "cell_type": "code",
   "execution_count": 13,
   "id": "49a66a75",
   "metadata": {},
   "outputs": [
    {
     "name": "stdout",
     "output_type": "stream",
     "text": [
      "Index(['time', 'wind_speed', 'position_x', 'position_y', 'position_z', 'speed',\n",
      "       'payload', 'angular'],\n",
      "      dtype='object')\n",
      "(257896, 8)\n"
     ]
    }
   ],
   "source": [
    "data['angular'] = np.sqrt(\n",
    "    data['angular_x']**2 + data['angular_y']**2 + data['angular_z']**2\n",
    ")\n",
    "\n",
    "data.drop(columns=['angular_x', 'angular_y', 'angular_z'], inplace=True)\n",
    "\n",
    "print(data.columns)\n",
    "print(data.shape)"
   ]
  },
  {
   "cell_type": "code",
   "execution_count": 14,
   "id": "6bd917d7",
   "metadata": {},
   "outputs": [
    {
     "name": "stdout",
     "output_type": "stream",
     "text": [
      "Index(['time', 'wind_speed', 'position_x', 'position_y', 'position_z', 'speed',\n",
      "       'payload', 'angular', 'distance'],\n",
      "      dtype='object')\n",
      "(257896, 9)\n"
     ]
    }
   ],
   "source": [
    "data['distance'] = data['time'] * data['speed']\n",
    "\n",
    "print(data.columns)\n",
    "print(data.shape)"
   ]
  },
  {
   "cell_type": "markdown",
   "id": "38b9893b",
   "metadata": {},
   "source": [
    "### Training Model\n",
    "\n",
    "- LinearRegression\n",
    "- RandomForestRegressor"
   ]
  },
  {
   "cell_type": "code",
   "execution_count": 15,
   "id": "4f3781a1",
   "metadata": {},
   "outputs": [
    {
     "name": "stdout",
     "output_type": "stream",
     "text": [
      "Training set shape: (206316, 8)\n",
      "Test set shape: (51580, 8)\n"
     ]
    }
   ],
   "source": [
    "from sklearn.model_selection import train_test_split\n",
    "from sklearn.linear_model import LinearRegression\n",
    "from sklearn.ensemble import RandomForestRegressor\n",
    "from sklearn.metrics import mean_squared_error, r2_score, mean_absolute_error\n",
    "import joblib\n",
    "\n",
    "X = data[['distance','wind_speed', 'position_x', 'position_y', 'position_z','speed', 'payload', 'angular']]\n",
    "y = data['time']\n",
    "\n",
    "X_train, X_test, y_train, y_test = train_test_split(X, y, test_size=0.2, random_state=42)\n",
    "\n",
    "print(\"Training set shape:\", X_train.shape)\n",
    "print(\"Test set shape:\", X_test.shape)"
   ]
  },
  {
   "cell_type": "code",
   "execution_count": 16,
   "id": "07c8aeec",
   "metadata": {},
   "outputs": [
    {
     "name": "stdout",
     "output_type": "stream",
     "text": [
      "\n",
      "=== Linear Regression ===\n",
      "Linear Regression Results:\n",
      "MSE: 652.6033\n",
      "RMSE: 25.5461\n",
      "MAE: 18.6404\n",
      "R² Score: 0.8354\n"
     ]
    }
   ],
   "source": [
    "print(\"\\n=== Linear Regression ===\")\n",
    "lr_model = LinearRegression()\n",
    "lr_model.fit(X_train, y_train)\n",
    "\n",
    "lr_pred = lr_model.predict(X_test)\n",
    "\n",
    "lr_mse = mean_squared_error(y_test, lr_pred)\n",
    "lr_rmse = np.sqrt(lr_mse)\n",
    "lr_mae = mean_absolute_error(y_test, lr_pred)\n",
    "lr_r2 = r2_score(y_test, lr_pred)\n",
    "\n",
    "print(f\"Linear Regression Results:\")\n",
    "print(f\"MSE: {lr_mse:.4f}\")\n",
    "print(f\"RMSE: {lr_rmse:.4f}\")\n",
    "print(f\"MAE: {lr_mae:.4f}\")\n",
    "print(f\"R² Score: {lr_r2:.4f}\")"
   ]
  },
  {
   "cell_type": "code",
   "execution_count": 17,
   "id": "be7823f5",
   "metadata": {},
   "outputs": [
    {
     "name": "stdout",
     "output_type": "stream",
     "text": [
      "\n",
      "=== Random Forest Regression ===\n",
      "Random Forest Results:\n",
      "MSE: 46.9257\n",
      "RMSE: 6.8502\n",
      "MAE: 0.9261\n",
      "R² Score: 0.9882\n",
      "\n",
      "Feature Importance (Random Forest):\n",
      "      feature  importance\n",
      "0    distance    0.593652\n",
      "4  position_z    0.146361\n",
      "5       speed    0.142829\n",
      "2  position_x    0.092539\n",
      "7     angular    0.017731\n",
      "3  position_y    0.005294\n",
      "1  wind_speed    0.001505\n",
      "6     payload    0.000088\n"
     ]
    }
   ],
   "source": [
    "print(\"\\n=== Random Forest Regression ===\")\n",
    "rf_model = RandomForestRegressor(n_estimators=100, random_state=42)\n",
    "rf_model.fit(X_train, y_train)\n",
    "\n",
    "rf_pred = rf_model.predict(X_test)\n",
    "\n",
    "rf_mse = mean_squared_error(y_test, rf_pred)\n",
    "rf_rmse = np.sqrt(rf_mse)\n",
    "rf_mae = mean_absolute_error(y_test, rf_pred)\n",
    "rf_r2 = r2_score(y_test, rf_pred)\n",
    "\n",
    "print(f\"Random Forest Results:\")\n",
    "print(f\"MSE: {rf_mse:.4f}\")\n",
    "print(f\"RMSE: {rf_rmse:.4f}\")\n",
    "print(f\"MAE: {rf_mae:.4f}\")\n",
    "print(f\"R² Score: {rf_r2:.4f}\")\n",
    "\n",
    "feature_importance = pd.DataFrame({\n",
    "  'feature': X.columns,\n",
    "  'importance': rf_model.feature_importances_\n",
    "}).sort_values('importance', ascending=False)\n",
    "\n",
    "print(\"\\nFeature Importance (Random Forest):\")\n",
    "print(feature_importance)"
   ]
  },
  {
   "cell_type": "code",
   "execution_count": 18,
   "id": "35d4d10c",
   "metadata": {},
   "outputs": [
    {
     "name": "stdout",
     "output_type": "stream",
     "text": [
      "\n",
      "=== XGBoost Regression ===\n",
      "XGBoost Results:\n",
      "MSE: 37.7481\n",
      "RMSE: 6.1439\n",
      "MAE: 1.7537\n",
      "R² Score: 0.9905\n",
      "\n",
      "Feature Importance (XGBoost):\n",
      "      feature  importance\n",
      "0    distance    0.395982\n",
      "5       speed    0.262152\n",
      "4  position_z    0.162088\n",
      "2  position_x    0.144223\n",
      "3  position_y    0.015761\n",
      "7     angular    0.012668\n",
      "6     payload    0.004297\n",
      "1  wind_speed    0.002829\n"
     ]
    }
   ],
   "source": [
    "print(\"\\n=== XGBoost Regression ===\")\n",
    "import xgboost as xgb\n",
    "\n",
    "xgb_model = xgb.XGBRegressor(n_estimators=100, random_state=42, verbosity=0)\n",
    "xgb_model.fit(X_train, y_train)\n",
    "\n",
    "xgb_pred = xgb_model.predict(X_test)\n",
    "\n",
    "xgb_mse = mean_squared_error(y_test, xgb_pred)\n",
    "xgb_rmse = np.sqrt(xgb_mse)\n",
    "xgb_mae = mean_absolute_error(y_test, xgb_pred)\n",
    "xgb_r2 = r2_score(y_test, xgb_pred)\n",
    "\n",
    "print(f\"XGBoost Results:\")\n",
    "print(f\"MSE: {xgb_mse:.4f}\")\n",
    "print(f\"RMSE: {xgb_rmse:.4f}\")\n",
    "print(f\"MAE: {xgb_mae:.4f}\")\n",
    "print(f\"R² Score: {xgb_r2:.4f}\")\n",
    "\n",
    "xgb_feature_importance = pd.DataFrame({\n",
    "    'feature': X.columns,\n",
    "    'importance': xgb_model.feature_importances_\n",
    "}).sort_values('importance', ascending=False)\n",
    "\n",
    "print(\"\\nFeature Importance (XGBoost):\")\n",
    "print(xgb_feature_importance)"
   ]
  },
  {
   "cell_type": "markdown",
   "id": "4afb6a3a",
   "metadata": {},
   "source": [
    "### Exporting the better model"
   ]
  },
  {
   "cell_type": "code",
   "execution_count": 19,
   "id": "0ed5a42c",
   "metadata": {},
   "outputs": [
    {
     "name": "stdout",
     "output_type": "stream",
     "text": [
      "\n",
      "Saving XGBoost model...\n",
      "Best model (XGBoost) saved as 'time_prediction_model.pkl'\n",
      "Feature names saved: ['distance', 'wind_speed', 'position_x', 'position_y', 'position_z', 'speed', 'payload', 'angular']\n"
     ]
    }
   ],
   "source": [
    "model_scores = {\n",
    "    \"Random Forest\": rf_r2,\n",
    "    \"Linear Regression\": lr_r2,\n",
    "    \"XGBoost\": xgb_r2\n",
    "}\n",
    "\n",
    "best_model_name = max(model_scores, key=model_scores.get)\n",
    "\n",
    "if best_model_name == \"Random Forest\":\n",
    "    best_model = rf_model\n",
    "elif best_model_name == \"Linear Regression\":\n",
    "    best_model = lr_model\n",
    "else:\n",
    "    best_model = xgb_model\n",
    "\n",
    "print(f\"\\nSaving {best_model_name} model...\")\n",
    "joblib.dump(best_model, 'time_prediction_model.pkl')\n",
    "print(f\"Best model ({best_model_name}) saved as 'time_prediction_model.pkl'\")\n",
    "\n",
    "feature_names = list(X.columns)\n",
    "joblib.dump(feature_names, 'feature_names.pkl')\n",
    "print(f\"Feature names saved: {feature_names}\")"
   ]
  }
 ],
 "metadata": {
  "kernelspec": {
   "display_name": "Python 3",
   "language": "python",
   "name": "python3"
  },
  "language_info": {
   "codemirror_mode": {
    "name": "ipython",
    "version": 3
   },
   "file_extension": ".py",
   "mimetype": "text/x-python",
   "name": "python",
   "nbconvert_exporter": "python",
   "pygments_lexer": "ipython3",
   "version": "3.12.0"
  }
 },
 "nbformat": 4,
 "nbformat_minor": 5
}
